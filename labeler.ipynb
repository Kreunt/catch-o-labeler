{
 "cells": [
  {
   "cell_type": "code",
   "execution_count": 61,
   "metadata": {},
   "outputs": [],
   "source": [
    "import os\n",
    "import pandas as pd\n",
    "import json\n",
    "import matplotlib.pyplot as plt"
   ]
  },
  {
   "cell_type": "code",
   "execution_count": 65,
   "metadata": {},
   "outputs": [
    {
     "data": {
      "text/html": [
       "<div>\n",
       "<style scoped>\n",
       "    .dataframe tbody tr th:only-of-type {\n",
       "        vertical-align: middle;\n",
       "    }\n",
       "\n",
       "    .dataframe tbody tr th {\n",
       "        vertical-align: top;\n",
       "    }\n",
       "\n",
       "    .dataframe thead th {\n",
       "        text-align: right;\n",
       "    }\n",
       "</style>\n",
       "<table border=\"1\" class=\"dataframe\">\n",
       "  <thead>\n",
       "    <tr style=\"text-align: right;\">\n",
       "      <th></th>\n",
       "      <th>hash</th>\n",
       "      <th>detection</th>\n",
       "    </tr>\n",
       "  </thead>\n",
       "  <tbody>\n",
       "    <tr>\n",
       "      <th>0</th>\n",
       "      <td>bf1f5da5f5a9b4feba6602a2dbe1c14a6f89bc6c752be9...</td>\n",
       "      <td>trojan</td>\n",
       "    </tr>\n",
       "    <tr>\n",
       "      <th>1</th>\n",
       "      <td>bb0c44eb19af35ed4a0a2d038ee6adad5a5677a1c43666...</td>\n",
       "      <td>other</td>\n",
       "    </tr>\n",
       "    <tr>\n",
       "      <th>2</th>\n",
       "      <td>ba100bbf2bb7db432a99f2f7de4001ab0a839ac022e3cd...</td>\n",
       "      <td>trojan</td>\n",
       "    </tr>\n",
       "    <tr>\n",
       "      <th>3</th>\n",
       "      <td>bb902b9ead0cae348608ab7c4d0e5dcc</td>\n",
       "      <td>trojan</td>\n",
       "    </tr>\n",
       "    <tr>\n",
       "      <th>4</th>\n",
       "      <td>d23276d5ec45b5718e22fa43c62892ec</td>\n",
       "      <td>trojan</td>\n",
       "    </tr>\n",
       "    <tr>\n",
       "      <th>...</th>\n",
       "      <td>...</td>\n",
       "      <td>...</td>\n",
       "    </tr>\n",
       "    <tr>\n",
       "      <th>3870</th>\n",
       "      <td>baeedb1640944fce2f8dd137e2b2ec1ebaa87ea9ccea2d...</td>\n",
       "      <td>trojan</td>\n",
       "    </tr>\n",
       "    <tr>\n",
       "      <th>3871</th>\n",
       "      <td>3a02b01714b08aff6e20e15964390937</td>\n",
       "      <td>trojan</td>\n",
       "    </tr>\n",
       "    <tr>\n",
       "      <th>3872</th>\n",
       "      <td>bbe038513f7194f675485294a877d2898e7b75b5257d18...</td>\n",
       "      <td>trojan</td>\n",
       "    </tr>\n",
       "    <tr>\n",
       "      <th>3873</th>\n",
       "      <td>927326b6057c46aee021e403d3eaea7b</td>\n",
       "      <td>trojan</td>\n",
       "    </tr>\n",
       "    <tr>\n",
       "      <th>3874</th>\n",
       "      <td>ea71d561f58495bb880e0eab8a792787</td>\n",
       "      <td>trojan</td>\n",
       "    </tr>\n",
       "  </tbody>\n",
       "</table>\n",
       "<p>3875 rows × 2 columns</p>\n",
       "</div>"
      ],
      "text/plain": [
       "                                                   hash detection\n",
       "0     bf1f5da5f5a9b4feba6602a2dbe1c14a6f89bc6c752be9...    trojan\n",
       "1     bb0c44eb19af35ed4a0a2d038ee6adad5a5677a1c43666...     other\n",
       "2     ba100bbf2bb7db432a99f2f7de4001ab0a839ac022e3cd...    trojan\n",
       "3                      bb902b9ead0cae348608ab7c4d0e5dcc    trojan\n",
       "4                      d23276d5ec45b5718e22fa43c62892ec    trojan\n",
       "...                                                 ...       ...\n",
       "3870  baeedb1640944fce2f8dd137e2b2ec1ebaa87ea9ccea2d...    trojan\n",
       "3871                   3a02b01714b08aff6e20e15964390937    trojan\n",
       "3872  bbe038513f7194f675485294a877d2898e7b75b5257d18...    trojan\n",
       "3873                   927326b6057c46aee021e403d3eaea7b    trojan\n",
       "3874                   ea71d561f58495bb880e0eab8a792787    trojan\n",
       "\n",
       "[3875 rows x 2 columns]"
      ]
     },
     "execution_count": 65,
     "metadata": {},
     "output_type": "execute_result"
    }
   ],
   "source": [
    "jsons_folder = 'jsons'\n",
    "df = pd.DataFrame(columns=['hash', 'detection'])\n",
    "\n",
    "def get_scan_result(scans):\n",
    "    for scan in scans.values():\n",
    "        if 'result' in scan and scan['result']:\n",
    "            res = str(scan['result'])\n",
    "            for s in ['Spy', 'spy']:\n",
    "                if s in res:\n",
    "                    return 'spyware'\n",
    "            for s in ['Ransom', 'ransom']:\n",
    "                if s in res:\n",
    "                    return 'ransomware'\n",
    "            for s in ['Adware', 'adware']:\n",
    "                if s in res:\n",
    "                    return 'adware'\n",
    "            for s in ['Exploit', 'exploit']:\n",
    "                if s in res:\n",
    "                    return 'exploit'\n",
    "            for s in ['Root', 'root']:\n",
    "                if s in res:\n",
    "                    return 'rootkit'\n",
    "            for s in ['Hack', 'hack']:\n",
    "                if s in res:\n",
    "                    return 'hacktool'\n",
    "            for s in ['trj', 'Trj', 'Troj', 'troj', 'Trojan', 'trojan']:\n",
    "                if s in res:\n",
    "                    return 'trojan'\n",
    "    return 'other'\n",
    "\n",
    "for filename in os.listdir(jsons_folder):\n",
    "    filepath = os.path.join(jsons_folder, filename)\n",
    "    with open(filepath, 'r') as f:\n",
    "        data = json.load(f)\n",
    "    if 'virustotal' in data and 'scans' in data['virustotal']:\n",
    "        scanRes = get_scan_result(data['virustotal']['scans'])\n",
    "    df = pd.concat([df, pd.DataFrame({'hash': [filename.replace('.json', '')], 'detection': [str(scanRes)]})], ignore_index=True)\n",
    "        \n",
    "df\n",
    "            \n"
   ]
  },
  {
   "cell_type": "code",
   "execution_count": 63,
   "metadata": {},
   "outputs": [
    {
     "data": {
      "text/html": [
       "<div>\n",
       "<style scoped>\n",
       "    .dataframe tbody tr th:only-of-type {\n",
       "        vertical-align: middle;\n",
       "    }\n",
       "\n",
       "    .dataframe tbody tr th {\n",
       "        vertical-align: top;\n",
       "    }\n",
       "\n",
       "    .dataframe thead th {\n",
       "        text-align: right;\n",
       "    }\n",
       "</style>\n",
       "<table border=\"1\" class=\"dataframe\">\n",
       "  <thead>\n",
       "    <tr style=\"text-align: right;\">\n",
       "      <th></th>\n",
       "      <th>hash</th>\n",
       "      <th>detection</th>\n",
       "    </tr>\n",
       "  </thead>\n",
       "  <tbody>\n",
       "    <tr>\n",
       "      <th>3303</th>\n",
       "      <td>85985d65fc6d08e7d59b6609d1541325</td>\n",
       "      <td>trojan</td>\n",
       "    </tr>\n",
       "    <tr>\n",
       "      <th>2987</th>\n",
       "      <td>baea96f5e89d83fb750b6dc1fb7c4c129078e245deec77...</td>\n",
       "      <td>trojan</td>\n",
       "    </tr>\n",
       "    <tr>\n",
       "      <th>2892</th>\n",
       "      <td>bf627e538548cf30657408437938ce7dd123f8279410e3...</td>\n",
       "      <td>trojan</td>\n",
       "    </tr>\n",
       "    <tr>\n",
       "      <th>2829</th>\n",
       "      <td>beab9b189278d849792e2e9e39dbfe534caa2e1025b1ac...</td>\n",
       "      <td>adware</td>\n",
       "    </tr>\n",
       "    <tr>\n",
       "      <th>1879</th>\n",
       "      <td>b884829c14abb365dff46f52bbabe217</td>\n",
       "      <td>trojan</td>\n",
       "    </tr>\n",
       "  </tbody>\n",
       "</table>\n",
       "</div>"
      ],
      "text/plain": [
       "                                                   hash detection\n",
       "3303                   85985d65fc6d08e7d59b6609d1541325    trojan\n",
       "2987  baea96f5e89d83fb750b6dc1fb7c4c129078e245deec77...    trojan\n",
       "2892  bf627e538548cf30657408437938ce7dd123f8279410e3...    trojan\n",
       "2829  beab9b189278d849792e2e9e39dbfe534caa2e1025b1ac...    adware\n",
       "1879                   b884829c14abb365dff46f52bbabe217    trojan"
      ]
     },
     "execution_count": 63,
     "metadata": {},
     "output_type": "execute_result"
    }
   ],
   "source": [
    "df.sample(n=5)"
   ]
  },
  {
   "cell_type": "code",
   "execution_count": 64,
   "metadata": {},
   "outputs": [
    {
     "data": {
      "text/plain": [
       "detection\n",
       "trojan        3182\n",
       "adware         325\n",
       "other          245\n",
       "spyware         67\n",
       "exploit         34\n",
       "rootkit         11\n",
       "hacktool         8\n",
       "ransomware       3\n",
       "Name: count, dtype: int64"
      ]
     },
     "execution_count": 64,
     "metadata": {},
     "output_type": "execute_result"
    }
   ],
   "source": [
    "df['detection'].value_counts()"
   ]
  },
  {
   "cell_type": "code",
   "execution_count": 69,
   "metadata": {},
   "outputs": [
    {
     "name": "stdout",
     "output_type": "stream",
     "text": [
      "Data exported to 'labeled_data.csv'\n"
     ]
    }
   ],
   "source": [
    "df.to_csv('labeled_data.csv', index=False)\n",
    "print(\"Data exported to 'labeled_data.csv'\")\n"
   ]
  }
 ],
 "metadata": {
  "kernelspec": {
   "display_name": "Python 3",
   "language": "python",
   "name": "python3"
  },
  "language_info": {
   "codemirror_mode": {
    "name": "ipython",
    "version": 3
   },
   "file_extension": ".py",
   "mimetype": "text/x-python",
   "name": "python",
   "nbconvert_exporter": "python",
   "pygments_lexer": "ipython3",
   "version": "3.10.12"
  }
 },
 "nbformat": 4,
 "nbformat_minor": 2
}
